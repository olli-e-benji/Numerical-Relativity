{
 "cells": [
  {
   "cell_type": "code",
   "execution_count": null,
   "metadata": {},
   "outputs": [],
   "source": [
    "import matplotlib.pyplot as plt\n",
    "import numpy as np\n",
    "import kuibit.simdir as sd"
   ]
  },
  {
   "cell_type": "code",
   "execution_count": null,
   "metadata": {},
   "outputs": [],
   "source": [
    "simcontrol = sd.SimDir(\"./TOV_example/\")\n",
    "sim1 = sd.SimDir(\"./TOV_90_controlres/\")\n",
    "sim2 = sd.SimDir(\"./TOV_90_moreprecise/\")\n",
    "sim3 = sd.SimDir(\"./TOV_90_superprecise/\")"
   ]
  },
  {
   "cell_type": "code",
   "execution_count": null,
   "metadata": {},
   "outputs": [],
   "source": [
    "rho_max_control = simcontrol.timeseries.maximum.fields.rho\n",
    "rho_max1 = sim1.timeseries.maximum.fields.rho\n",
    "rho_max2 = sim2.timeseries.maximum.fields.rho\n",
    "rho_max3 = sim3.timeseries.maximum.fields.rho"
   ]
  },
  {
   "cell_type": "code",
   "execution_count": null,
   "metadata": {},
   "outputs": [],
   "source": [
    "fig, ax = plt.subplots(figsize=(20, 4), layout='constrained')\n",
    "fig.suptitle('TOV Solutions', fontsize=16)\n",
    "\n",
    "plt.subplot(1, 5, 1)\n",
    "plt.plot(rho_max_control, label=\"Non-Perturbed system\", c='royalblue', lw=2.5)\n",
    "plt.xlabel(r'$t$ [$M_{\\odot}$]')\n",
    "plt.ylabel(r'$\\rho_c / \\rho_c(0)$')\n",
    "plt.legend()\n",
    "plt.title('Exact Solution', fontsize=10, loc='left')\n",
    "\n",
    "plt.subplot(1, 5, 2)\n",
    "plt.plot(rho_max_control, label=\"Non-Perturbed system\", c='royalblue', lw=2.5)\n",
    "plt.plot(rho_max1, label=\"1st run perturbed\", c='orange', lw=2.5)\n",
    "plt.xlabel(r'$t$ [$M_{\\odot}$]')\n",
    "plt.ylabel(r'$\\rho_c / \\rho_c(0)$')\n",
    "plt.legend()\n",
    "plt.title('Resolution 2.0', fontsize=10, loc='left')\n",
    "\n",
    "plt.subplot(1, 5, 3)\n",
    "plt.plot(rho_max2, label=\"2nd run perturbed\", c='firebrick', lw=2.5)\n",
    "plt.xlabel(r'$t$ [$M_{\\odot}$]')\n",
    "plt.ylabel(r'$\\rho_c / \\rho_c(0)$')\n",
    "plt.legend()\n",
    "plt.title('Resolution 1.0', fontsize=10, loc='left')\n",
    "\n",
    "plt.subplot(1, 5, 4)\n",
    "plt.plot(rho_max3, label=\"3rd run perturbed\", c='limegreen', lw=2.5)\n",
    "plt.xlabel(r'$t$ [$M_{\\odot}$]')\n",
    "plt.ylabel(r'$\\rho_c / \\rho_c(0)$')\n",
    "plt.legend()\n",
    "plt.title('Resolution 0.5', fontsize=10, loc='left')\n",
    "\n",
    "plt.subplot(1, 5, 5)\n",
    "plt.plot(rho_max1, label=\"1st run perturbed\", c='orange', lw=2.5)\n",
    "plt.plot(rho_max2, label=\"2nd run perturbed\", c='firebrick', lw=2.5)\n",
    "plt.plot(rho_max3, label=\"3rd run perturbed\", c='limegreen', lw=2.5)\n",
    "plt.xlabel(r'$t$ [$M_{\\odot}$]')\n",
    "plt.ylabel(r'$\\rho_c / \\rho_c(0)$')\n",
    "plt.legend(loc='lower right')\n",
    "plt.title('Comparison', fontsize=10, loc='left')\n",
    "\n",
    "plt.savefig('TOV_Solution.png', dpi=800)\n",
    "plt.show()"
   ]
  }
 ],
 "metadata": {
  "kernelspec": {
   "display_name": "Python 3",
   "language": "python",
   "name": "python3"
  },
  "language_info": {
   "codemirror_mode": {
    "name": "ipython",
    "version": 3
   },
   "file_extension": ".py",
   "mimetype": "text/x-python",
   "name": "python",
   "nbconvert_exporter": "python",
   "pygments_lexer": "ipython3",
   "version": "3.9.7"
  }
 },
 "nbformat": 4,
 "nbformat_minor": 4
}
