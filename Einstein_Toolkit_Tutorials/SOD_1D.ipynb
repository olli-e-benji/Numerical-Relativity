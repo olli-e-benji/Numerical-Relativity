{
 "cells": [
  {
   "cell_type": "markdown",
   "metadata": {},
   "source": [
    "# Riemann Problem"
   ]
  },
  {
   "cell_type": "code",
   "execution_count": null,
   "metadata": {},
   "outputs": [],
   "source": [
    "import matplotlib.pyplot as plt\n",
    "import numpy as np\n",
    "from kuibit.simdir import SimDir\n",
    "from kuibit.grid_data import UniformGrid"
   ]
  },
  {
   "cell_type": "markdown",
   "metadata": {},
   "source": [
    "## Exact Solution"
   ]
  },
  {
   "cell_type": "code",
   "execution_count": null,
   "metadata": {},
   "outputs": [],
   "source": [
    "#initial data from the Exact Riemann solver of https://www.brunogiacomazzo.org/?page_id=395\n",
    "exact = np.loadtxt(\"Sod_exact.dat\")"
   ]
  },
  {
   "cell_type": "code",
   "execution_count": null,
   "metadata": {},
   "outputs": [],
   "source": [
    "x_exact=exact[:,0]\n",
    "rho_exact=exact[:,1]\n",
    "press_exact=exact[:,2] #note: this is pgas+pmag\n",
    "vx_exact=exact[:,3]\n",
    "vy_exact=exact[:,4]\n",
    "vz_exact=exact[:,5]\n",
    "By_exact=exact[:,6]\n",
    "Bz_exact=exact[:,7]"
   ]
  },
  {
   "cell_type": "code",
   "execution_count": null,
   "metadata": {},
   "outputs": [],
   "source": [
    "plt.plot(x_exact, rho_exact, label=\"Exact Solution\", c='royalblue', lw=2.5)\n",
    "plt.xlabel(r'$x$')\n",
    "plt.ylabel(r'$\\rho$')\n",
    "plt.xlim(-0.5, 0.5)\n",
    "plt.ylim(0.2, 1)\n",
    "plt.title('SOD Shock Tube')\n",
    "plt.legend()\n",
    "plt.show()"
   ]
  },
  {
   "cell_type": "markdown",
   "metadata": {},
   "source": [
    "## Read the Numerical Results"
   ]
  },
  {
   "cell_type": "code",
   "execution_count": null,
   "metadata": {},
   "outputs": [],
   "source": [
    "gf = SimDir(\"./Sod_1d_400/\").gf\n",
    "gf2 = SimDir(\"./Sod_1d_moregrid/\").gf\n",
    "gf3 = SimDir(\"./Sod_1d_lessgrid/\").gf"
   ]
  },
  {
   "cell_type": "code",
   "execution_count": null,
   "metadata": {},
   "outputs": [],
   "source": [
    "vars1d_1 = gf.x\n",
    "vars1d_2 = gf2.x\n",
    "vars1d_3 = gf3.x"
   ]
  },
  {
   "cell_type": "code",
   "execution_count": null,
   "metadata": {},
   "outputs": [],
   "source": [
    "print(vars1d_1)"
   ]
  },
  {
   "cell_type": "code",
   "execution_count": null,
   "metadata": {},
   "outputs": [],
   "source": [
    "small_grid = UniformGrid([101], x0=[-0.45], x1=[0.45])"
   ]
  },
  {
   "cell_type": "code",
   "execution_count": null,
   "metadata": {},
   "outputs": [],
   "source": [
    "#Density\n",
    "rho_test1 = vars1d_1.fields.rho\n",
    "rho_test2 = vars1d_2.fields.rho\n",
    "rho_test3 = vars1d_3.fields.rho"
   ]
  },
  {
   "cell_type": "code",
   "execution_count": null,
   "metadata": {},
   "outputs": [],
   "source": [
    "#1-D Velocity\n",
    "vel1_temp = vars1d_1.fields.vel[0]\n",
    "vel2_temp = vars1d_2.fields.vel[0]\n",
    "vel3_temp = vars1d_3.fields.vel[0]"
   ]
  },
  {
   "cell_type": "code",
   "execution_count": null,
   "metadata": {},
   "outputs": [],
   "source": [
    "#Pressure\n",
    "press1_temp = vars1d_1.fields.press\n",
    "press2_temp = vars1d_2.fields.press\n",
    "press3_temp = vars1d_3.fields.press"
   ]
  },
  {
   "cell_type": "code",
   "execution_count": null,
   "metadata": {},
   "outputs": [],
   "source": [
    "small_grid = UniformGrid([101], x0=[-0.45], x1=[0.45])"
   ]
  },
  {
   "cell_type": "code",
   "execution_count": null,
   "metadata": {},
   "outputs": [],
   "source": [
    "print(rho_test1.iterations)"
   ]
  },
  {
   "cell_type": "code",
   "execution_count": null,
   "metadata": {},
   "outputs": [],
   "source": [
    "#Variables extraction\n",
    "rho_final1 = rho_test1.read_on_grid(rho_test1.iterations[-1], small_grid)\n",
    "rho_final2 = rho_test2.read_on_grid(rho_test2.iterations[-1], small_grid)\n",
    "rho_final3 = rho_test3.read_on_grid(rho_test3.iterations[-1], small_grid)\n",
    "vel1 = vel1_temp.read_on_grid(vel1_temp.iterations[-1], small_grid)\n",
    "vel2 = vel2_temp.read_on_grid(vel2_temp.iterations[-1], small_grid)\n",
    "vel3 = vel3_temp.read_on_grid(vel3_temp.iterations[-1], small_grid)\n",
    "press1 = press1_temp.read_on_grid(press1_temp.iterations[-1], small_grid)\n",
    "press2 = press2_temp.read_on_grid(press2_temp.iterations[-1], small_grid)\n",
    "press3 = press3_temp.read_on_grid(press3_temp.iterations[-1], small_grid)"
   ]
  },
  {
   "cell_type": "code",
   "execution_count": null,
   "metadata": {},
   "outputs": [],
   "source": [
    "#Density Plot\n",
    "fig, ax = plt.subplots(figsize=(20, 4), layout='constrained')\n",
    "fig.suptitle('Sod Shock Tube: Density', fontsize=16)\n",
    "\n",
    "plt.subplot(1, 5, 1)\n",
    "plt.plot(x_exact, rho_exact, label=\"Exact Solution\", c='royalblue', lw=2.5, zorder=0)\n",
    "plt.xlabel(r'$x$')\n",
    "plt.ylabel(r'$\\rho$')\n",
    "plt.xlim(-0.5, 0.5)\n",
    "plt.ylim(0.2, 1)\n",
    "plt.legend()\n",
    "plt.title('Exact Solution', fontsize=10, loc='left')\n",
    "\n",
    "plt.subplot(1, 5, 2)\n",
    "plt.plot(*rho_final1.coordinates_meshgrid(), rho_final1.data_xyz, label=\"GRHydro 1\", c='orange', lw=2, zorder=1)\n",
    "plt.plot(x_exact, rho_exact, label=\"Exact Solution\", c='royalblue', lw=2.5, zorder=0)\n",
    "plt.xlabel(r'$x$')\n",
    "plt.ylabel(r'$\\rho$')\n",
    "plt.xlim(-0.5, 0.5)\n",
    "plt.ylim(0.2, 1)\n",
    "plt.legend()\n",
    "plt.title('Resolution 0.0025', fontsize=10, loc='left')\n",
    "\n",
    "plt.subplot(1, 5, 3)\n",
    "plt.plot(*rho_final2.coordinates_meshgrid(), rho_final2.data_xyz, label=\"GRHydro 2 \", c='firebrick', lw=2, zorder=1)\n",
    "plt.plot(x_exact, rho_exact, label=\"Exact Solution\", c='royalblue', lw=2.5, zorder=0)\n",
    "plt.xlabel(r'$x$')\n",
    "plt.ylabel(r'$\\rho$')\n",
    "plt.xlim(-0.5, 0.5)\n",
    "plt.ylim(0.2, 1)\n",
    "plt.legend()\n",
    "plt.title('Resolution 0.001', fontsize=10, loc='left')\n",
    "\n",
    "plt.subplot(1, 5, 4)\n",
    "plt.plot(*rho_final3.coordinates_meshgrid(), rho_final3.data_xyz, label=\"GRHydro 3 \", c='limegreen', lw=2, zorder=1)\n",
    "plt.plot(x_exact, rho_exact, label=\"Exact Solution\", c='royalblue', lw=2.5, zorder=0)\n",
    "plt.xlabel(r'$x$')\n",
    "plt.ylabel(r'$\\rho$')\n",
    "plt.xlim(-0.5, 0.5)\n",
    "plt.ylim(0.2, 1)\n",
    "plt.legend()\n",
    "plt.title('Resolution 0.005', fontsize=10, loc='left')\n",
    "\n",
    "plt.subplot(1, 5, 5)\n",
    "plt.plot(*rho_final1.coordinates_meshgrid(), rho_final1.data_xyz, label=\"GRHydro 1\", ls='--', c='orange', lw=2, zorder=1)\n",
    "plt.plot(*rho_final2.coordinates_meshgrid(), rho_final2.data_xyz, label=\"GRHydro 2 \", ls='--', c='firebrick', lw=2, zorder=1)\n",
    "plt.plot(*rho_final3.coordinates_meshgrid(), rho_final3.data_xyz, label=\"GRHydro 3 \", ls='--', c='limegreen', lw=2, zorder=1)\n",
    "plt.plot(x_exact, rho_exact, label=\"Exact Solution\", c='royalblue', lw=2.5, zorder=0)\n",
    "plt.xlabel(r'$x$')\n",
    "plt.ylabel(r'$\\rho$')\n",
    "plt.xlim(-0.5, 0.5)\n",
    "plt.ylim(0.2, 1)\n",
    "plt.legend()\n",
    "plt.title('Comparison', fontsize=10, loc='left')\n",
    "\n",
    "plt.savefig('SOD_rho.png', dpi=400)\n",
    "plt.show()"
   ]
  },
  {
   "cell_type": "code",
   "execution_count": null,
   "metadata": {},
   "outputs": [],
   "source": [
    "#Velocity Plot\n",
    "fig, ax = plt.subplots(figsize=(20, 4), layout='constrained')\n",
    "fig.suptitle('Sod Shock Tube: Velocity', fontsize=16)\n",
    "\n",
    "plt.subplot(1, 5, 1)\n",
    "plt.plot(x_exact, vx_exact, label=\"Exact Solution\", c='royalblue', lw=2.5, zorder=0)\n",
    "plt.xlabel(r'$x$')\n",
    "plt.ylabel(r'$v$')\n",
    "plt.xlim(-0.5, 0.5)\n",
    "plt.ylim(0.2, 1)\n",
    "plt.legend()\n",
    "plt.title('Exact Solution', fontsize=10, loc='left')\n",
    "\n",
    "plt.subplot(1, 5, 2)\n",
    "plt.plot(*vel1.coordinates_meshgrid(), vel1.data_xyz, label=\"GRHydro 1\", c='orange', lw=2, zorder=1)\n",
    "plt.plot(x_exact, vx_exact, label=\"Exact Solution\", c='royalblue', lw=2.5, zorder=0)\n",
    "plt.xlabel(r'$x$')\n",
    "plt.ylabel(r'$v$')\n",
    "plt.xlim(-0.5, 0.5)\n",
    "plt.ylim(0.2, 1)\n",
    "plt.legend()\n",
    "plt.title('Resolution 0.0025', fontsize=10, loc='left')\n",
    "\n",
    "plt.subplot(1, 5, 3)\n",
    "plt.plot(*vel2.coordinates_meshgrid(), vel2.data_xyz, label=\"GRHydro 2 \", c='firebrick', lw=2, zorder=1)\n",
    "plt.plot(x_exact, vx_exact, label=\"Exact Solution\", c='royalblue', lw=2.5, zorder=0)\n",
    "plt.xlabel(r'$x$')\n",
    "plt.ylabel(r'$v$')\n",
    "plt.xlim(-0.5, 0.5)\n",
    "plt.ylim(0.2, 1)\n",
    "plt.legend()\n",
    "plt.title('Resolution 0.001', fontsize=10, loc='left')\n",
    "\n",
    "plt.subplot(1, 5, 4)\n",
    "plt.plot(*vel3.coordinates_meshgrid(), vel3.data_xyz, label=\"GRHydro 3 \", c='limegreen', lw=2, zorder=1)\n",
    "plt.plot(x_exact, vx_exact, label=\"Exact Solution\", c='royalblue', lw=2.5, zorder=0)\n",
    "plt.xlabel(r'$x$')\n",
    "plt.ylabel(r'$v$')\n",
    "plt.xlim(-0.5, 0.5)\n",
    "plt.ylim(0.2, 1)\n",
    "plt.legend()\n",
    "plt.title('Resolution 0.005', fontsize=10, loc='left')\n",
    "\n",
    "plt.subplot(1, 5, 5)\n",
    "plt.plot(*vel1.coordinates_meshgrid(), vel1.data_xyz, label=\"GRHydro 1\", c='orange', ls='-.', lw=2, zorder=1)\n",
    "plt.plot(*vel2.coordinates_meshgrid(), vel2.data_xyz, label=\"GRHydro 2 \", c='firebrick', lw=2, ls='-.', zorder=1)\n",
    "plt.plot(*vel3.coordinates_meshgrid(), vel3.data_xyz, label=\"GRHydro 3 \", c='limegreen', lw=2, ls='-.', zorder=1)\n",
    "plt.plot(x_exact, vx_exact, label=\"Exact Solution\", c='royalblue', lw=2.5)\n",
    "plt.xlabel(r'$x$')\n",
    "plt.ylabel(r'$v$')\n",
    "plt.xlim(-0.5, 0.5)\n",
    "plt.ylim(0.2, 1)\n",
    "plt.legend()\n",
    "plt.title('Comparison', fontsize=10, loc='left')\n",
    "\n",
    "plt.savefig('SOD_vel.png', dpi=400)\n",
    "plt.show()"
   ]
  },
  {
   "cell_type": "code",
   "execution_count": null,
   "metadata": {},
   "outputs": [],
   "source": [
    "#Pressure Plot\n",
    "fig, ax = plt.subplots(figsize=(20, 4), layout='constrained')\n",
    "fig.suptitle('Sod Shock Tube: Pressure', fontsize=16)\n",
    "\n",
    "plt.subplot(1, 5, 1)\n",
    "plt.plot(x_exact, press_exact, label=\"Exact Solution\", c='royalblue', lw=2.5, zorder=0)\n",
    "plt.xlabel(r'$x$')\n",
    "plt.ylabel(r'$P$')\n",
    "plt.xlim(-0.5, 0.5)\n",
    "plt.ylim(0.2, 1)\n",
    "plt.legend()\n",
    "plt.title('Exact Solution', fontsize=10, loc='left')\n",
    "\n",
    "plt.subplot(1, 5, 2)\n",
    "plt.plot(*press1.coordinates_meshgrid(), press1.data_xyz, label=\"GRHydro 1\", c='orange', lw=2, zorder=1)\n",
    "plt.plot(x_exact, press_exact, label=\"Exact Solution\", c='royalblue', lw=2.5, zorder=0)\n",
    "plt.xlabel(r'$x$')\n",
    "plt.ylabel(r'$P$')\n",
    "plt.xlim(-0.5, 0.5)\n",
    "plt.ylim(0.2, 1)\n",
    "plt.legend()\n",
    "plt.title('Resolution 0.0025', fontsize=10, loc='left')\n",
    "\n",
    "plt.subplot(1, 5, 3)\n",
    "plt.plot(*press2.coordinates_meshgrid(), press2.data_xyz, label=\"GRHydro 2 \", c='firebrick', lw=2, zorder=1)\n",
    "plt.plot(x_exact, press_exact, label=\"Exact Solution\", c='royalblue', lw=2.5, zorder=0)\n",
    "plt.xlabel(r'$x$')\n",
    "plt.ylabel(r'$P$')\n",
    "plt.xlim(-0.5, 0.5)\n",
    "plt.ylim(0.2, 1)\n",
    "plt.legend()\n",
    "plt.title('Resolution 0.001', fontsize=10, loc='left')\n",
    "\n",
    "plt.subplot(1, 5, 4)\n",
    "plt.plot(*press3.coordinates_meshgrid(), press3.data_xyz, label=\"GRHydro 3 \", c='limegreen', lw=2, zorder=1)\n",
    "plt.plot(x_exact, press_exact, label=\"Exact Solution\", c='royalblue', lw=2.5, zorder=0)\n",
    "plt.xlabel(r'$x$')\n",
    "plt.ylabel(r'$P$')\n",
    "plt.xlim(-0.5, 0.5)\n",
    "plt.ylim(0.2, 1)\n",
    "plt.legend()\n",
    "plt.title('Resolution 0.005', fontsize=10, loc='left')\n",
    "\n",
    "plt.subplot(1, 5, 5)\n",
    "plt.plot(*press1.coordinates_meshgrid(), press1.data_xyz, label=\"GRHydro 1\", c='orange', ls='-.', lw=2, zorder=1)\n",
    "plt.plot(*press2.coordinates_meshgrid(), press2.data_xyz, label=\"GRHydro 2 \", c='firebrick', lw=2, ls='-.', zorder=1)\n",
    "plt.plot(*press3.coordinates_meshgrid(), press3.data_xyz, label=\"GRHydro 3 \", c='limegreen', lw=2, ls='-.', zorder=1)\n",
    "plt.plot(x_exact, press_exact, label=\"Exact Solution\", c='royalblue', lw=2.5, zorder=0)\n",
    "plt.xlabel(r'$x$')\n",
    "plt.ylabel(r'$P$')\n",
    "plt.xlim(-0.5, 0.5)\n",
    "plt.ylim(0.2, 1)\n",
    "plt.legend()\n",
    "plt.title('Comparison', fontsize=10, loc='left')\n",
    "\n",
    "plt.savefig('SOD_press.png', dpi=400)\n",
    "plt.show()"
   ]
  },
  {
   "cell_type": "code",
   "execution_count": null,
   "metadata": {},
   "outputs": [],
   "source": []
  }
 ],
 "metadata": {
  "kernelspec": {
   "display_name": "Python 3",
   "language": "python",
   "name": "python3"
  },
  "language_info": {
   "codemirror_mode": {
    "name": "ipython",
    "version": 3
   },
   "file_extension": ".py",
   "mimetype": "text/x-python",
   "name": "python",
   "nbconvert_exporter": "python",
   "pygments_lexer": "ipython3",
   "version": "3.9.7"
  }
 },
 "nbformat": 4,
 "nbformat_minor": 4
}
